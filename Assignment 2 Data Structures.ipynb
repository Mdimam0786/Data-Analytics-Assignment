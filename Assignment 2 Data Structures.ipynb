{
 "cells": [
  {
   "cell_type": "code",
   "execution_count": null,
   "id": "ef2fac6c-5852-465c-b8aa-c45b9e034bba",
   "metadata": {},
   "outputs": [],
   "source": [
    "                                  \n",
    "Q1 :  Discuss string slicing and provide examples. \n",
    "\n",
    "Ans 1 :-  String slicing allows us to create a new substring from an existing string. This is done by specifying a starting point and an             ending point in the string.\n",
    "Basic Syntax\n",
    "In Python, the syntax for string slicing is:\n",
    "string[start:end:step]\n",
    "=> start: The index where the slice begins. It’s inclusive, meaning the character at this index is included in the slice.\n",
    "=> end: The index where the slice ends. It’s exclusive, meaning the character at this index is not included in the slice.\n",
    "=> step: It is optional. It Specifies the step . It defines how many characters to skip in the string. The default value is 1."
   ]
  },
  {
   "cell_type": "code",
   "execution_count": 7,
   "id": "7115041f-8d88-41de-b811-1e3996e8c6ee",
   "metadata": {},
   "outputs": [
    {
     "name": "stdout",
     "output_type": "stream",
     "text": [
      "Hello\n"
     ]
    }
   ],
   "source": [
    "# Examples\n",
    "#Let’s look at some examples to understand how slicing works:\n",
    "text = \"Hello, World!\"\n",
    "\n",
    "# Extract characters from index 0 to 4\n",
    "slice1 = text[0:5]\n",
    "print(slice1)  \n",
    "# Here, text[0:5] extracts the substring \"Hello\" from the original string \"Hello, World!\". The slice starts at index 0 and ends just before index 5."
   ]
  },
  {
   "cell_type": "code",
   "execution_count": 2,
   "id": "6649ddd4-c0f5-4215-8cc9-b225dd237f8b",
   "metadata": {},
   "outputs": [
    {
     "name": "stdout",
     "output_type": "stream",
     "text": [
      "World!\n"
     ]
    }
   ],
   "source": [
    "# Extract characters from index 7 to the end of the string\n",
    "#If the end index is omitted, the slice extends to the end of the string.\n",
    "slice2 = text[7:]\n",
    "print(slice2)"
   ]
  },
  {
   "cell_type": "code",
   "execution_count": 3,
   "id": "2eebf6d7-cb2a-4e15-97a6-55818d7acd03",
   "metadata": {},
   "outputs": [
    {
     "name": "stdout",
     "output_type": "stream",
     "text": [
      "Hello\n"
     ]
    }
   ],
   "source": [
    "# Extract characters from the beginning of the string to index 4\n",
    "# If the start index is omitted, the slice begins from the start of the string.\n",
    "slice3 = text[:5]\n",
    "print(slice3) "
   ]
  },
  {
   "cell_type": "code",
   "execution_count": 4,
   "id": "6b3bef97-2651-40d2-8c50-70f5d565f86f",
   "metadata": {},
   "outputs": [
    {
     "name": "stdout",
     "output_type": "stream",
     "text": [
      "Hello, World!\n"
     ]
    }
   ],
   "source": [
    "# Extract the entire string (same as text[:])\n",
    "slice4 = text[:]\n",
    "print(slice4) \n",
    "# In this example, text[:] returns the entire string \"Hello, World!\" as a new string, effectively duplicating the original string. This can be useful if we want to create a copy of a string without modifying the original one.\n"
   ]
  },
  {
   "cell_type": "code",
   "execution_count": 5,
   "id": "69ced9d1-5ed2-4b54-851e-431632755f8b",
   "metadata": {},
   "outputs": [
    {
     "name": "stdout",
     "output_type": "stream",
     "text": [
      "Hlo ol!\n"
     ]
    }
   ],
   "source": [
    "# Extract every second character from the string\n",
    "# The step parameter allows us to skip characters. In this case, text[::2] extracts every second character from the string.\n",
    "slice5 = text[::2]\n",
    "print(slice5)"
   ]
  },
  {
   "cell_type": "code",
   "execution_count": 6,
   "id": "57fbdf3c-bc34-4dee-b63a-2adea6c85f2a",
   "metadata": {},
   "outputs": [
    {
     "name": "stdout",
     "output_type": "stream",
     "text": [
      "!dlroW ,olleH\n"
     ]
    }
   ],
   "source": [
    "# Extract characters in reverse order\n",
    "# By using a negative step, we can reverse the string. The slice text[::-1] returns the string in reverse order.\n",
    "slice6 = text[::-1]\n",
    "print(slice6)"
   ]
  },
  {
   "cell_type": "markdown",
   "id": "0da2dec5-3995-421f-8eba-a353cd7dc112",
   "metadata": {},
   "source": [
    "Q2. Explain the key features of lists in Python?\n",
    "\n",
    "Ans:- Lists in Python are a fundamental data structure that allows us to store and manipulate a collection of items. Here are the key features of lists in Python:"
   ]
  },
  {
   "cell_type": "code",
   "execution_count": 8,
   "id": "ab230ba8-a60a-45f5-a1ee-19e18d407752",
   "metadata": {},
   "outputs": [
    {
     "name": "stdout",
     "output_type": "stream",
     "text": [
      "[10, 20, 30, 40]\n"
     ]
    }
   ],
   "source": [
    "# 1. Ordered Collection\n",
    "\n",
    "# Lists maintain the order of elements. This means that the items have a defined sequence, and the order in which we insert items will be preserved.\n",
    "\n",
    "# Example \n",
    "\n",
    "my_list = [10,20,30,40]\n",
    "print(my_list)"
   ]
  },
  {
   "cell_type": "code",
   "execution_count": 10,
   "id": "9d039b71-b12e-43a6-b4ba-48702073b5a5",
   "metadata": {},
   "outputs": [
    {
     "name": "stdout",
     "output_type": "stream",
     "text": [
      "[1, 35, 3]\n"
     ]
    }
   ],
   "source": [
    "# 2. Mutable\n",
    "\n",
    "# Lists are mutable, meaning we can change the elements in a list after it has been created. we can modify, add, or remove items.\n",
    "\n",
    "# Example \n",
    "\n",
    "my_list1 = [1,2,3]\n",
    "my_list1[1] = 35\n",
    "print(my_list1)\n",
    "\n"
   ]
  },
  {
   "cell_type": "code",
   "execution_count": 11,
   "id": "229f2a36-a356-4685-a940-512d01edb3aa",
   "metadata": {},
   "outputs": [
    {
     "name": "stdout",
     "output_type": "stream",
     "text": [
      "[1, 'Hello', 3.4, [14, 16, 19]]\n"
     ]
    }
   ],
   "source": [
    "# 3. Heterogeneous Elements\n",
    "\n",
    "# A list can contain elements of different data types, such as integers, strings, and even other lists.\n",
    "\n",
    "# Example\n",
    "\n",
    "my_list2 = [1, \"Hello\", 3.4, [14,16,19]]\n",
    "print(my_list2)\n"
   ]
  },
  {
   "cell_type": "code",
   "execution_count": 12,
   "id": "26f1ed81-afe1-46b8-bfe5-89a8a47080bc",
   "metadata": {},
   "outputs": [
    {
     "name": "stdout",
     "output_type": "stream",
     "text": [
      "[1, 2, 3, 4]\n"
     ]
    }
   ],
   "source": [
    "# 4. Dynamic Size\n",
    "\n",
    "# Lists in Python can grow or shrink as needed. We can add or remove elements from a list without needing to declare a fixed size in advance.\n",
    "\n",
    "# Example \n",
    "\n",
    "my_list = [1, 2, 3]\n",
    "my_list.append(4)\n",
    "print(my_list)\n"
   ]
  },
  {
   "cell_type": "code",
   "execution_count": 13,
   "id": "cd03a0b6-e412-433a-8a7d-95ebafa849e0",
   "metadata": {},
   "outputs": [
    {
     "name": "stdout",
     "output_type": "stream",
     "text": [
      "30\n",
      "50\n",
      "[20, 30, 40]\n"
     ]
    }
   ],
   "source": [
    "# 5. Indexing and Slicing\n",
    "\n",
    "# Lists support indexing, allowing you to access individual elements by their position. \n",
    "# Negative indexing allows access from the end of the list. Lists also support slicing to access a subset of elements.\n",
    "\n",
    "# Example\n",
    "\n",
    "my_list = [10, 20, 30, 40, 50]\n",
    "print(my_list[2])  #  (access by index)\n",
    "print(my_list[-1])  #  (negative index)\n",
    "print(my_list[1:4])  #  (slice)\n",
    "\n"
   ]
  },
  {
   "cell_type": "code",
   "execution_count": 14,
   "id": "1866857a-006c-463d-b501-1aa4a1c7458c",
   "metadata": {},
   "outputs": [
    {
     "name": "stdout",
     "output_type": "stream",
     "text": [
      "[1, 1, 3, 4, 5]\n"
     ]
    }
   ],
   "source": [
    "# 6. Various Methods\n",
    "\n",
    "# Lists come with a variety of built-in methods that allow for easy manipulation. Some common methods include append(), remove(), pop(), sort(), and reverse().\n",
    "\n",
    "# Example\n",
    "\n",
    "my_list = [3, 1, 4, 1, 5]\n",
    "my_list.sort()  # Sort the list in ascending order\n",
    "print(my_list) \n"
   ]
  },
  {
   "cell_type": "code",
   "execution_count": 15,
   "id": "f98f5c25-e869-4f45-b8f1-475e297b8d03",
   "metadata": {},
   "outputs": [
    {
     "name": "stdout",
     "output_type": "stream",
     "text": [
      "[4, 5, 6]\n",
      "6\n"
     ]
    }
   ],
   "source": [
    "# 7. Nested Lists\n",
    "\n",
    "# Lists can contain other lists as elements, allowing the creation of multi-dimensional arrays or complex data structures.\n",
    "\n",
    "# Example\n",
    "\n",
    "nested_list = [[1, 2, 3], [4, 5, 6], [7, 8, 9]]\n",
    "print(nested_list[1])  \n",
    "print(nested_list[1][2]) \n",
    "\n"
   ]
  },
  {
   "cell_type": "code",
   "execution_count": 16,
   "id": "2662de03-09a0-4c1f-b7ed-8288fb253352",
   "metadata": {},
   "outputs": [
    {
     "name": "stdout",
     "output_type": "stream",
     "text": [
      "10\n",
      "20\n",
      "30\n"
     ]
    }
   ],
   "source": [
    "# 8. Iteration\n",
    "\n",
    "# We can easily iterate over the elements of a list using loops, which makes it convenient to process items in a list.\n",
    "\n",
    "# Example \n",
    "\n",
    "my_list = [10, 20, 30]\n",
    "for item in my_list:\n",
    "    print(item)\n",
    "\n"
   ]
  },
  {
   "cell_type": "code",
   "execution_count": 17,
   "id": "1f1f379a-42b1-4b61-9313-2954db72359e",
   "metadata": {},
   "outputs": [
    {
     "name": "stdout",
     "output_type": "stream",
     "text": [
      "[0, 1, 4, 9, 16]\n"
     ]
    }
   ],
   "source": [
    "# 9. Comprehensions\n",
    "\n",
    "# List comprehensions provide a concise way to create lists by iterating over an iterable and applying an expression.\n",
    "\n",
    "# Example \n",
    "\n",
    "squares = [x**2 for x in range(5)]\n",
    "print(squares) \n",
    "\n"
   ]
  },
  {
   "cell_type": "markdown",
   "id": "e17d6fb6-d670-4440-9a71-06b32df25e9c",
   "metadata": {},
   "source": [
    "Q3. Describe how to access, modify, and delete elements in a list with example?\n",
    "\n",
    "Ans:- Accessing, modifying, and deleting elements in a list are fundamental operations in Python. Here’s  explanation of each, along with examples."
   ]
  },
  {
   "cell_type": "code",
   "execution_count": 18,
   "id": "d2c8c3a2-72de-4f63-8e92-c6506dbfb6fe",
   "metadata": {},
   "outputs": [
    {
     "name": "stdout",
     "output_type": "stream",
     "text": [
      "apple\n",
      "cherry\n",
      "date\n"
     ]
    }
   ],
   "source": [
    "# 1. Accessing Elements in a List\n",
    "\n",
    "# We can access elements in a list using their index. Python uses zero-based indexing, so the first element is at index 0, the second at index 1, and so on.\n",
    "# We can also use negative indexing to access elements from the end of the list, where -1 refers to the last element.\n",
    "\n",
    "# Example:\n",
    "\n",
    "# Define a list\n",
    "fruits = [\"apple\", \"banana\", \"cherry\", \"date\"]\n",
    "\n",
    "# Access elements by index\n",
    "first_fruit = fruits[0]  # Access the first element\n",
    "print(first_fruit)\n",
    "\n",
    "third_fruit = fruits[2]  # Access the third element\n",
    "print(third_fruit)  \n",
    "\n",
    "# Access elements using negative indexing\n",
    "last_fruit = fruits[-1]  # Access the last element\n",
    "print(last_fruit)  \n",
    "\n"
   ]
  },
  {
   "cell_type": "code",
   "execution_count": 19,
   "id": "c98edef8-23b6-4847-8be4-4468ce24b34b",
   "metadata": {},
   "outputs": [
    {
     "name": "stdout",
     "output_type": "stream",
     "text": [
      "[10, 25, 30, 40]\n",
      "[10, 25, 30, 45]\n"
     ]
    }
   ],
   "source": [
    "# 2. Modifying Elements in a List\n",
    "\n",
    "# Lists in Python are mutable, meaning we can change their contents. We can modify an element by assigning a new value to a specific index.\n",
    "\n",
    "# Example \n",
    "\n",
    "# Define a list\n",
    "numbers = [10, 20, 30, 40]\n",
    "\n",
    "# Modify the second element\n",
    "numbers[1] = 25\n",
    "print(numbers)  \n",
    "\n",
    "# Modify the last element using negative indexing\n",
    "numbers[-1] = 45\n",
    "print(numbers)\n",
    "\n"
   ]
  },
  {
   "cell_type": "code",
   "execution_count": 20,
   "id": "36907f23-9e7d-462e-8244-874faa686d69",
   "metadata": {},
   "outputs": [
    {
     "name": "stdout",
     "output_type": "stream",
     "text": [
      "['red', 'blue', 'yellow']\n",
      "['red', 'yellow']\n",
      "yellow\n",
      "['red']\n"
     ]
    }
   ],
   "source": [
    "# 3. Deleting Elements from a List\n",
    "\n",
    "# We can delete elements from a list using various methods:\n",
    "\n",
    "# Using del Statement: This removes an element at a specific index.\n",
    "\n",
    "# Using remove() Method: This removes the first occurrence of a specified value.\n",
    "\n",
    "# Using pop() Method: This removes an element at a specified index and returns it. \n",
    "# If no index is specified, it removes and returns the last element.\n",
    "\n",
    "# Example\n",
    "\n",
    "# Define a list\n",
    "colors = [\"red\", \"green\", \"blue\", \"yellow\"]\n",
    "\n",
    "# Delete an element by index using del\n",
    "del colors[1]\n",
    "print(colors) \n",
    "\n",
    "# Delete an element by value using remove()\n",
    "colors.remove(\"blue\")\n",
    "print(colors) \n",
    "\n",
    "# Delete the last element using pop()\n",
    "last_color = colors.pop()\n",
    "print(last_color) \n",
    "print(colors) \n",
    "\n",
    "\n"
   ]
  },
  {
   "cell_type": "markdown",
   "id": "13054fe9-ec6e-47d2-8b4a-9f1d0c7f7580",
   "metadata": {},
   "source": [
    "Q4. Compare and contrast tuples and lists with examples.\n",
    "\n",
    "Ans:-  Comparing and Contrasting Tuples and Lists in Python.\n",
    "\n",
    "In Python, both tuples and lists are used to store collections of items, but they have different properties and use cases. Here’s comparison between the two:\n"
   ]
  },
  {
   "cell_type": "code",
   "execution_count": 21,
   "id": "552b3c8d-8e05-4be9-80dc-3c752686af80",
   "metadata": {},
   "outputs": [
    {
     "name": "stdout",
     "output_type": "stream",
     "text": [
      "[10, 2, 3]\n"
     ]
    }
   ],
   "source": [
    "# 1. Mutability\n",
    "\n",
    "# Lists: Mutable, meaning we can change their content after creation. We can modify, add, or remove elements.\n",
    "\n",
    "# Tuples: Immutable, meaning once a tuple is created, its content cannot be changed. We cannot modify, add, or remove elements.\n",
    "\n",
    "# Example \n",
    "\n",
    "# List\n",
    "my_list = [1, 2, 3]\n",
    "my_list[0] = 10  # Modify the first element\n",
    "print(my_list)  \n",
    "\n",
    "# Tuple\n",
    "my_tuple = (1, 2, 3)\n",
    "# my_tuple[0] = 10  # This will raise an error because tuples are immutable\n"
   ]
  },
  {
   "cell_type": "code",
   "execution_count": null,
   "id": "4a627f50-66df-4490-b057-21fe7d62dc75",
   "metadata": {},
   "outputs": [],
   "source": [
    "# 2. Syntax\n",
    "\n",
    "# Lists: Created using square brackets [].\n",
    "\n",
    "# Tuples: Created using parentheses ().\n",
    "\n",
    "# Example:\n",
    "\n",
    "my_list = [1, \"apple\", 3.5]  # List\n",
    "\n",
    "my_tuple = (1, \"apple\", 3.5)  # Tuple\n"
   ]
  },
  {
   "cell_type": "code",
   "execution_count": null,
   "id": "adea9744-38f6-4c6a-b00b-f5a246711245",
   "metadata": {},
   "outputs": [],
   "source": [
    "# 3. Use Cases\n",
    "\n",
    "# Lists: Used when we need a collection of items that can change over time.\n",
    "# Lists are suitable for situations where we need to add, remove, or modify elements.\n",
    "\n",
    "# Tuples: Used when we need a collection of items that should not change.\n",
    "# Tuples are often used for fixed collections of items, such as coordinates or return values from functions.\n",
    "\n",
    "# Example\n",
    "\n",
    "# List example: Shopping cart that might change\n",
    "shopping_cart = [\"apple\", \"banana\", \"orange\"]\n",
    "shopping_cart.append(\"grape\")\n",
    "print(shopping_cart) \n",
    "\n",
    "# Tuple example: Coordinates that should not change\n",
    "coordinates = (10.0, 20.0)\n",
    "print(coordinates) \n"
   ]
  },
  {
   "cell_type": "code",
   "execution_count": 22,
   "id": "99280f8f-fe0f-43fb-929e-8f4cd4ae624c",
   "metadata": {},
   "outputs": [
    {
     "name": "stdout",
     "output_type": "stream",
     "text": [
      "88\n",
      "64\n"
     ]
    }
   ],
   "source": [
    "# 4. Performance\n",
    "\n",
    "# Lists: Generally slower than tuples because they are mutable and require more memory to store additional information.\n",
    "\n",
    "# Tuples: Faster and more memory-efficient than lists because they are immutable.\n",
    "\n",
    "# Example \n",
    "\n",
    "import sys\n",
    "my_list = [1, 2, 3]\n",
    "my_tuple = (1, 2, 3)\n",
    "\n",
    "print(sys.getsizeof(my_list)) \n",
    "print(sys.getsizeof(my_tuple))  \n"
   ]
  },
  {
   "cell_type": "code",
   "execution_count": null,
   "id": "feec10f8-0c76-4b76-aaba-88381ba29189",
   "metadata": {},
   "outputs": [],
   "source": [
    "# 5. Functions and Methods\n",
    "\n",
    "# Lists: Have more built-in methods such as append(), remove(), pop(), sort(), etc., due to their mutable nature.\n",
    "\n",
    "# Tuples: Have fewer built-in methods, mainly for counting occurrences (count()) and finding indices (index()).\n",
    "\n",
    "# Example\n",
    "\n",
    "# List methods\n",
    "my_list = [1, 2, 3]\n",
    "my_list.append(4)\n",
    "print(my_list)  \n",
    "\n",
    "# Tuple methods\n",
    "my_tuple = (1, 2, 3, 2)\n",
    "print(my_tuple.count(2))  #(count of 2 in the tuple)\n",
    "print(my_tuple.index(3))  #(index of 3 in the tuple)\n",
    "\n"
   ]
  },
  {
   "cell_type": "code",
   "execution_count": 23,
   "id": "4fd97265-20f7-4e61-aa6d-b9cd706a573c",
   "metadata": {},
   "outputs": [
    {
     "name": "stdout",
     "output_type": "stream",
     "text": [
      "1 2 3\n",
      "4 5 6\n"
     ]
    }
   ],
   "source": [
    "# 6. Packing and Unpacking\n",
    "\n",
    "# Both: Support packing and unpacking, where we can assign multiple values at once to a list or tuple, or extract values from them into variables.\n",
    "\n",
    "# Example \n",
    "\n",
    "# Packing\n",
    "my_list = [1, 2, 3]\n",
    "my_tuple = (4, 5, 6)\n",
    "\n",
    "# Unpacking\n",
    "a, b, c = my_list\n",
    "print(a, b, c)  \n",
    "\n",
    "x, y, z = my_tuple\n",
    "print(x, y, z)  \n",
    "\n"
   ]
  },
  {
   "cell_type": "code",
   "execution_count": 24,
   "id": "d0089df4-f4b8-44fe-915d-9324f4a7decc",
   "metadata": {},
   "outputs": [
    {
     "name": "stdout",
     "output_type": "stream",
     "text": [
      "[1, 'apple', 3.5]\n",
      "(2, 'banana', 4.5)\n"
     ]
    }
   ],
   "source": [
    "# 7. Heterogeneous Elements\n",
    "\n",
    "# Both: Can store heterogeneous elements, meaning they can hold items of different data types (e.g., integers, strings, floats).\n",
    "\n",
    "# Example \n",
    "\n",
    "my_list = [1, \"apple\", 3.5]\n",
    "my_tuple = (2, \"banana\", 4.5)\n",
    "\n",
    "print(my_list)  \n",
    "print(my_tuple)  \n",
    "\n"
   ]
  },
  {
   "cell_type": "markdown",
   "id": "fea933bf-ebd7-40bd-bde0-a8c9f99fba74",
   "metadata": {},
   "source": [
    "Q5.  Describe the key features of sets and provide examples of their use?\n",
    "\n",
    "Ans:-  Sets in Python are a built-in data type used to store an unordered collection of unique elements. They are particularly useful when we need to manage or process collections where duplicate elements are not allowed. Below are the key features of sets along with examples to illustrate their use."
   ]
  },
  {
   "cell_type": "code",
   "execution_count": 25,
   "id": "8eb9868f-d8e8-4d95-b480-7a4de30a3802",
   "metadata": {},
   "outputs": [
    {
     "name": "stdout",
     "output_type": "stream",
     "text": [
      "{1, 2, 3, 4}\n"
     ]
    }
   ],
   "source": [
    "# 1. Unordered Collection\n",
    "\n",
    "# Sets do not maintain any specific order of elements. When we print a set, the elements may appear in any order, and this order may change as elements are added or removed.\n",
    "\n",
    "# Example \n",
    "\n",
    "my_set = {3, 1, 4, 2}\n",
    "print(my_set)  \n",
    "\n"
   ]
  },
  {
   "cell_type": "code",
   "execution_count": null,
   "id": "9fc466a1-7ee5-445d-85a8-03e98439a2de",
   "metadata": {},
   "outputs": [],
   "source": [
    "# 2. Unique Elements\n",
    "\n",
    "# Sets automatically eliminate duplicate elements. If we try to add a duplicate element to a set, it will be ignored.\n",
    "\n",
    "# Example \n",
    "\n",
    "my_set = {1, 2, 2, 3, 4}\n",
    "print(my_set) \n"
   ]
  },
  {
   "cell_type": "code",
   "execution_count": null,
   "id": "2a53d720-54db-476a-90ad-f5fbd2026b1f",
   "metadata": {},
   "outputs": [],
   "source": [
    "# 3. Mutable\n",
    "\n",
    "# Sets are mutable, meaning we can add or remove elements after the set has been created.\n",
    "# However, the elements themselves must be immutable (e.g., integers, strings, tuples).\n",
    "\n",
    "# Example \n",
    "\n",
    "my_set = {1, 2, 3}\n",
    "my_set.add(4)  # Add an element\n",
    "print(my_set) \n",
    "\n",
    "my_set.remove(2)  # Remove an element\n",
    "print(my_set) \n",
    "\n"
   ]
  },
  {
   "cell_type": "code",
   "execution_count": null,
   "id": "ffee6b4b-80f4-4261-a8d8-a5fc9cf58820",
   "metadata": {},
   "outputs": [],
   "source": [
    "# 4. No Indexing or Slicing\n",
    "\n",
    "# Since sets are unordered, we cannot access elements using indices or perform slicing operations.\n",
    "# To check for the presence of an element, we use the in keyword.\n",
    "\n",
    "# Example \n",
    "\n",
    "my_set = {1, 2, 3}\n",
    "print(2 in my_set)  \n"
   ]
  },
  {
   "cell_type": "code",
   "execution_count": null,
   "id": "168b820e-0d49-4c53-a415-8312ba656de9",
   "metadata": {},
   "outputs": [],
   "source": [
    "# 5. Set Operations\n",
    "\n",
    "# Sets support mathematical set operations like union, intersection, difference, and symmetric difference.\n",
    "# These operations can be performed using operators or methods.\n",
    "\n",
    "set1 = {1, 2, 3}\n",
    "set2 = {3, 4, 5}\n",
    "\n",
    "# Union: Elements in either set\n",
    "print(set1 | set2)  \n",
    "\n",
    "# Intersection: Elements in both sets\n",
    "print(set1 & set2)  \n",
    "\n",
    "# Difference: Elements in set1 but not in set2\n",
    "print(set1 - set2)\n",
    "\n",
    "# Symmetric Difference: Elements in either set, but not both\n",
    "print(set1 ^ set2)  \n"
   ]
  },
  {
   "cell_type": "code",
   "execution_count": null,
   "id": "be6d1f62-3527-4049-8647-b698b4036ed7",
   "metadata": {},
   "outputs": [],
   "source": [
    "# 6. Efficient Membership Testing\n",
    "\n",
    "# Sets are optimized for membership testing.\n",
    "# Checking whether an element exists in a set is faster than doing the same with a list or tuple, making sets ideal for scenarios where this operation is frequent.\n",
    "\n",
    "# Example \n",
    "\n",
    "my_set = {1, 2, 3, 4, 5}\n",
    "print(3 in my_set)  \n",
    "print(6 in my_set) \n"
   ]
  },
  {
   "cell_type": "code",
   "execution_count": 27,
   "id": "a4b2f259-e5ce-4aae-ac28-abf2039ed82b",
   "metadata": {},
   "outputs": [
    {
     "name": "stdout",
     "output_type": "stream",
     "text": [
      "frozenset({1, 2, 3})\n"
     ]
    }
   ],
   "source": [
    "# 7. Immutability with Frozen Sets\n",
    "\n",
    "# Python also provides an immutable version of a set called a frozenset. Once created, elements cannot be added or removed from a frozenset.\n",
    "\n",
    "# Example\n",
    "\n",
    "my_frozenset = frozenset({1, 2, 3})\n",
    "# my_frozenset.add(4)  # This will raise an error because frozensets are immutable\n",
    "print(my_frozenset)\n",
    "\n"
   ]
  },
  {
   "cell_type": "code",
   "execution_count": null,
   "id": "d2a69372-6b84-4801-80f0-05ed47358e69",
   "metadata": {},
   "outputs": [],
   "source": [
    "# 8. Applications of Sets\n",
    "\n",
    "# Removing Duplicates: Sets are commonly used to remove duplicates from a list.\n",
    "\n",
    "# Example \n",
    "\n",
    "my_list = [1, 2, 2, 3, 4, 4, 5]\n",
    "unique_elements = set(my_list)\n",
    "print(unique_elements) \n",
    "\n",
    "# Finding Common Elements: Sets can be used to find common elements between two collections.\n",
    "\n",
    "# Example\n",
    "\n",
    "list1 = [1, 2, 3]\n",
    "list2 = [2, 3, 4]\n",
    "common_elements = set(list1) & set(list2)\n",
    "print(common_elements) \n",
    "\n"
   ]
  },
  {
   "cell_type": "markdown",
   "id": "9a1a2857-d9e6-4a9b-9b5b-1be2b8cfb26b",
   "metadata": {},
   "source": [
    "Q6.  Discuss the use cases of tuples and sets in Python programming?\n",
    "\n",
    "Ans :-  Use Cases of Tuples in Python Programming.\n"
   ]
  },
  {
   "cell_type": "code",
   "execution_count": null,
   "id": "b0ffe66c-5058-4f79-b9ba-aa3306101577",
   "metadata": {},
   "outputs": [],
   "source": [
    "# 1. Immutable Data Storage:\n",
    "\n",
    "# Use Case: Tuples are ideal for storing data that should not be modified after creation. \n",
    "# This immutability ensures that the data remains constant throughout the program.\n",
    "\n",
    "# Example: Storing geographical coordinates or RGB color values.\n",
    "\n",
    "coordinates = (40.7128, 74.0060)  # Coordinates for New York City\n",
    "rgb_color = (255, 0, 0)  # RGB values for red color\n"
   ]
  },
  {
   "cell_type": "code",
   "execution_count": 28,
   "id": "f965179f-cef1-4d75-b2dd-39a9b095fce7",
   "metadata": {},
   "outputs": [
    {
     "name": "stdout",
     "output_type": "stream",
     "text": [
      "('Alice', 30)\n"
     ]
    }
   ],
   "source": [
    "# 2. Returning Multiple Values from Functions:\n",
    "\n",
    "# Use Case: Tuples are commonly used to return multiple values from a function, allowing us to group related data together.\n",
    "\n",
    "# Example \n",
    "\n",
    "def get_person_info():\n",
    "    name = \"Alice\"\n",
    "    age = 30\n",
    "    return name, age  # Returns a tuple\n",
    "\n",
    "person = get_person_info()\n",
    "print(person)  \n"
   ]
  },
  {
   "cell_type": "code",
   "execution_count": 29,
   "id": "4b84aabc-413d-44ae-b643-c38878222cd1",
   "metadata": {},
   "outputs": [
    {
     "name": "stdout",
     "output_type": "stream",
     "text": [
      "India\n"
     ]
    }
   ],
   "source": [
    "# 3. Using Tuples as Dictionary Keys:\n",
    "\n",
    "# Use Case: Since tuples are immutable, they can be used as keys in dictionaries, unlike lists.\n",
    "# This is particularly useful when we need to create a composite key from multiple values.\n",
    "\n",
    "# Example\n",
    "\n",
    "locations = {\n",
    "    (\"Delhi\", \"DL\"): \"India\",\n",
    "    (\"London\", \"LDN\"): \"UK\"\n",
    "}\n",
    "print(locations[(\"Delhi\", \"DL\")]) \n"
   ]
  },
  {
   "cell_type": "code",
   "execution_count": null,
   "id": "4ea36900-6c47-447a-a3f7-ffa4e5cc66b6",
   "metadata": {},
   "outputs": [],
   "source": [
    "# 4. Data Integrity in Collections:\n",
    "\n",
    "# Use Case: When passing data to functions or storing it in collections, using tuples ensures that the data cannot be accidentally modified.\n",
    "\n",
    "# Example \n",
    "\n",
    "def process_data(data):\n",
    "    # Assume some processing is done here\n",
    "    return data\n",
    "\n",
    "my_tuple = (1, 2, 3)\n",
    "process_data(my_tuple)  # The tuple remains unchanged\n"
   ]
  },
  {
   "cell_type": "code",
   "execution_count": 30,
   "id": "ef0d9f1f-0fa6-43c9-b091-91637adf125b",
   "metadata": {},
   "outputs": [
    {
     "name": "stdout",
     "output_type": "stream",
     "text": [
      "(1, 2, 3, 4, 5, 6, 7, 8, 9)\n"
     ]
    }
   ],
   "source": [
    "# 5. Efficient Memory Usage:\n",
    "\n",
    "# Use Case: Tuples consume less memory than lists, making them more efficient for storing a large number of fixed elements.\n",
    "\n",
    "# Example\n",
    "\n",
    "large_tuple = (1, 2, 3, 4, 5, 6, 7, 8, 9)\n",
    "print(large_tuple)"
   ]
  },
  {
   "cell_type": "markdown",
   "id": "8e1e3be3-a67e-44de-9a24-aab4b98c20c3",
   "metadata": {},
   "source": [
    "Use Cases of Sets in Python Programming:\n"
   ]
  },
  {
   "cell_type": "code",
   "execution_count": null,
   "id": "aaa76599-b509-497b-bc0e-31925ecefcae",
   "metadata": {},
   "outputs": [],
   "source": [
    "# 1. Removing Duplicates from a Collection:\n",
    "\n",
    "# Use Case: Sets automatically remove duplicate elements, making them ideal for cleaning up lists or other collections where uniqueness is required.\n",
    "\n",
    "# Example\n",
    "\n",
    "my_list = [1, 2, 2, 3, 4, 4, 5]\n",
    "unique_elements = set(my_list)\n",
    "print(unique_elements)  \n",
    "\n"
   ]
  },
  {
   "cell_type": "code",
   "execution_count": 31,
   "id": "34cd7b29-14f7-42e8-a2c6-49cb6d9546df",
   "metadata": {},
   "outputs": [
    {
     "name": "stdout",
     "output_type": "stream",
     "text": [
      "ID is valid.\n"
     ]
    }
   ],
   "source": [
    "# 2. Membership Testing:\n",
    "\n",
    "# Use Case: Sets provide a fast way to test if an element is present in a collection, which is often used in scenarios like checking if a user input is valid.\n",
    "\n",
    "# Example\n",
    "\n",
    "valid_ids = {101, 102, 103, 104}\n",
    "if 102 in valid_ids:\n",
    "    print(\"ID is valid.\") \n",
    "\n"
   ]
  },
  {
   "cell_type": "code",
   "execution_count": null,
   "id": "da3d7ae8-9af0-4937-bc7c-9a39afbd2aa0",
   "metadata": {},
   "outputs": [],
   "source": [
    "# 3. Mathematical Set Operations:\n",
    "\n",
    "# Use Case: Sets are perfect for performing mathematical operations like union, intersection, and difference, which are useful in data analysis, such as finding common or unique items between datasets.\n",
    "\n",
    "# Example\n",
    "\n",
    "set_a = {1, 2, 3, 4}\n",
    "set_b = {3, 4, 5, 6}\n",
    "\n",
    "union = set_a | set_b\n",
    "print(union)  \n",
    "\n",
    "intersection = set_a & set_b\n",
    "print(intersection) \n",
    "\n"
   ]
  },
  {
   "cell_type": "code",
   "execution_count": null,
   "id": "73d85fea-fb80-417b-b82d-1a396ba82146",
   "metadata": {},
   "outputs": [],
   "source": [
    "# 4. Eliminating Common Elements Between Collections:\n",
    "\n",
    "# Use Case: We can easily find the difference between two collections, which is useful in situations like identifying which items have been added or removed.\n",
    "\n",
    "# Example\n",
    "\n",
    "set_old = {\"apple\", \"banana\", \"cherry\"}\n",
    "set_new = {\"banana\", \"cherry\", \"date\"}\n",
    "\n",
    "difference = set_new - set_old\n",
    "print(difference) \n"
   ]
  },
  {
   "cell_type": "code",
   "execution_count": null,
   "id": "12637010-23a6-4430-9abb-37d535e16a3b",
   "metadata": {},
   "outputs": [],
   "source": [
    "# 5. Handling Unordered Data:\n",
    "\n",
    "# Use Case: When the order of elements is not important, using a set can improve efficiency. For example, managing a collection of unique tags or categories.\n",
    "\n",
    "# Example\n",
    "\n",
    "tags = {\"python\", \"programming\", \"coding\", \"python\"}  # Duplicates automatically removed\n",
    "print(tags) \n"
   ]
  },
  {
   "cell_type": "code",
   "execution_count": null,
   "id": "7b63d8ef-e6cd-4de1-82cc-eafe112bc100",
   "metadata": {},
   "outputs": [],
   "source": [
    "# 6. Efficient Data Storage and Retrieval:\n",
    "\n",
    "# Use Case: Sets are optimized for storing and retrieving data, especially in scenarios where we frequently check for the presence of items.\n",
    "\n",
    "# Example\n",
    "\n",
    "processed_ids = {1001, 1002, 1003}\n",
    "if 1001 in processed_ids:\n",
    "    print(\"ID has been processed.\")  #\n"
   ]
  },
  {
   "cell_type": "markdown",
   "id": "83b0b98d-6b43-450b-ab13-925552af2296",
   "metadata": {},
   "source": [
    "Q7. Describe how to add, modify, and delete items in a dictionary with examples?\n",
    "\n",
    "Ans:- Dictionaries in Python are collections of key-value pairs, where each key is unique. They are incredibly versatile and allow for efficient data storage and retrieval. Here’s how we can add, modify, and delete items in a dictionary, along with examples."
   ]
  },
  {
   "cell_type": "code",
   "execution_count": 32,
   "id": "8200a471-c2f5-4367-8209-5efb710d5dee",
   "metadata": {},
   "outputs": [
    {
     "name": "stdout",
     "output_type": "stream",
     "text": [
      "{'name': 'John Doe', 'age': 20, 'major': 'Computer Science'}\n"
     ]
    }
   ],
   "source": [
    "# 1. Adding Items to a Dictionary\n",
    "# We can add new key-value pairs to a dictionary by simply assigning a value to a new key.\n",
    "# If the key already exists, the value will be updated (modified), but if it doesn’t, the key-value pair will be added.\n",
    "\n",
    "# Example\n",
    "\n",
    "# Define an empty dictionary\n",
    "student_info = {}\n",
    "\n",
    "# Add items to the dictionary\n",
    "student_info[\"name\"] = \"John Doe\"\n",
    "student_info[\"age\"] = 20\n",
    "student_info[\"major\"] = \"Computer Science\"\n",
    "\n",
    "print(student_info)\n",
    "\n"
   ]
  },
  {
   "cell_type": "code",
   "execution_count": 33,
   "id": "203e4a9b-b8c0-4945-b568-0d70f6b77e59",
   "metadata": {},
   "outputs": [
    {
     "name": "stdout",
     "output_type": "stream",
     "text": [
      "{'name': 'John Doe', 'age': 21, 'major': 'Data Science'}\n"
     ]
    }
   ],
   "source": [
    "# 2. Modifying Items in a Dictionary\n",
    "\n",
    "# To modify an item in a dictionary, we can assign a new value to an existing key.\n",
    "# If the key exists, the value will be updated with the new value we provide.\n",
    "\n",
    "# Example\n",
    "\n",
    "# Existing dictionary\n",
    "student_info = {\"name\": \"John Doe\", \"age\": 20, \"major\": \"Computer Science\"}\n",
    "\n",
    "# Modify the 'age' and 'major' keys\n",
    "student_info[\"age\"] = 21\n",
    "student_info[\"major\"] = \"Data Science\"\n",
    "\n",
    "print(student_info)\n",
    "\n"
   ]
  },
  {
   "cell_type": "code",
   "execution_count": 34,
   "id": "5b558b81-451f-4fc3-b1f4-2f50f1665bba",
   "metadata": {},
   "outputs": [
    {
     "name": "stdout",
     "output_type": "stream",
     "text": [
      "{'name': 'John Doe', 'major': 'Data Science'}\n",
      "Data Science\n",
      "{'name': 'John Doe'}\n",
      "('age', 21)\n",
      "{'name': 'John Doe'}\n"
     ]
    }
   ],
   "source": [
    "# 3. Deleting Items from a Dictionary\n",
    "\n",
    "# There are several ways to remove items from a dictionary:\n",
    "\n",
    "# Using del Statement: Removes the key-value pair associated with the specified key.\n",
    "\n",
    "# Using pop() Method: Removes the key-value pair and returns the value. If the key does not exist, it raises a KeyError, unless a default value is provided.\n",
    "\n",
    "# Using popitem() Method: Removes and returns the last inserted key-value pair\n",
    "\n",
    "# Example \n",
    "\n",
    "# Existing dictionary\n",
    "student_info = {\"name\": \"John Doe\", \"age\": 21, \"major\": \"Data Science\"}\n",
    "\n",
    "# Delete an item using the del statement\n",
    "del student_info[\"age\"]\n",
    "print(student_info)\n",
    "\n",
    "\n",
    "# Delete an item using the pop() method\n",
    "major = student_info.pop(\"major\")\n",
    "print(major)  \n",
    "print(student_info)  \n",
    "\n",
    "# Delete the last inserted item using popitem() method\n",
    "student_info[\"age\"] = 21  # Add age back for demonstration\n",
    "last_item = student_info.popitem()\n",
    "print(last_item)  \n",
    "print(student_info)  "
   ]
  },
  {
   "cell_type": "code",
   "execution_count": 35,
   "id": "3736f09d-88f1-4145-bcd4-32a6ddad2cbc",
   "metadata": {},
   "outputs": [
    {
     "name": "stdout",
     "output_type": "stream",
     "text": [
      "{}\n"
     ]
    }
   ],
   "source": [
    "# 4. Clearing a Dictionary\n",
    "\n",
    "# To remove all items from a dictionary, use the clear() method, which empties the dictionary but leaves it defined.\n",
    "\n",
    "# Example\n",
    "\n",
    "# Existing dictionary\n",
    "student_info = {\"name\": \"John Doe\", \"age\": 21, \"major\": \"Data Science\"}\n",
    "\n",
    "# Clear the dictionary\n",
    "student_info.clear()\n",
    "print(student_info)  \n",
    "\n",
    "\n"
   ]
  },
  {
   "cell_type": "markdown",
   "id": "7c75494c-d3f5-4c0f-a2d9-30b9796101df",
   "metadata": {},
   "source": [
    "Q8.  Discuss the importance of dictionary keys being immutable and provide examples?\n",
    "\n",
    "Ans :- In Python, dictionaries are used to store data in pairs, with each pair consisting of a key and a value. The key is like a label that helps us find the value quickly. However, not just anything can be used as a key—keys must be immutable, meaning they cannot change after they are created. Here’s why this is important."
   ]
  },
  {
   "cell_type": "markdown",
   "id": "880f3639-08a2-4299-96af-c5ec9f7af628",
   "metadata": {},
   "source": [
    "1. Keys Need to Stay the Same\n",
    "\n",
    "Why: If we could change a key after it’s in a dictionary, the dictionary would get confused. It wouldn’t know how to find the key anymore because its “label” would have changed.\n",
    "\n",
    "Example: Imagine we wrote a label on a file folder, and then someone erased it and wrote a new label. You wouldn’t know what was in the folder anymore! The same idea applies to dictionary keys—they need to stay the same to keep things organized."
   ]
  },
  {
   "cell_type": "markdown",
   "id": "4b580937-75bb-4df4-b70f-136d6233f2b6",
   "metadata": {},
   "source": [
    "2. Fast and Reliable Lookups\n",
    "\n",
    "Why: Dictionaries use something called a hash to quickly find where a key’s value is stored. This hash is like a unique ID for the key. If the key changes, its hash changes too, and the dictionary wouldn’t be able to find it anymore.\n",
    "\n",
    "Example: It’s like having a phone number stored under someone’s name. If you change their name in your contacts, you might have trouble finding their number later!"
   ]
  },
  {
   "cell_type": "markdown",
   "id": "d814239a-5294-48cf-bf1f-02936c5525a8",
   "metadata": {},
   "source": [
    "3. Preventing Mistakes\n",
    "\n",
    "Why: If keys were allowed to change, it would be easy to make mistakes. You might accidentally change a key, and suddenly our dictionary would have errors, like not being able to find certain values.\n",
    "\n",
    "Example: It’s like having a shopping list where each item is written down. If we keep crossing out items and writing new ones over them, you might forget what we needed to buy in the first place."
   ]
  },
  {
   "cell_type": "markdown",
   "id": "cf417953-61fa-4013-8a13-f693362db262",
   "metadata": {},
   "source": [
    "4. Using the Right Types for Keys\n",
    "\n",
    "What’s Allowed: Things like numbers, strings (text), and tuples (a group of values that can’t change) are allowed as dictionary keys because they are immutable.\n",
    "\n",
    "What’s Not Allowed: Lists can’t be keys because they can change. If a list could be a key, you could change its contents, and the dictionary would lose track of where it stored the associated value.\n",
    "\n",
    "Example of Good Keys:"
   ]
  },
  {
   "cell_type": "code",
   "execution_count": 40,
   "id": "1608247e-b462-4fb6-9563-f097dcea9685",
   "metadata": {},
   "outputs": [
    {
     "name": "stdout",
     "output_type": "stream",
     "text": [
      "{'name': 'Alice', 42: 'The answer', (1, 2): 'point A'}\n"
     ]
    }
   ],
   "source": [
    "# Example of good keys\n",
    "    my_dict = {\n",
    "    \"name\": \"Alice\",  # String as a key\n",
    "    42: \"The answer\",  # Number as a key\n",
    "    (1, 2): \"point A\"  # Tuple as a key\n",
    "}\n",
    "print(my_dict)"
   ]
  },
  {
   "cell_type": "code",
   "execution_count": null,
   "id": "1a1843e0-9c7c-4546-9094-77403f115289",
   "metadata": {},
   "outputs": [],
   "source": [
    "# Example of a Bad Key:\n",
    "\n",
    " # my_dict = {[1, 2]: \"value\"}  # This would cause an error because lists can't be keys\n"
   ]
  },
  {
   "cell_type": "markdown",
   "id": "439f7c94-c46d-4652-b564-9ccca204f2cd",
   "metadata": {},
   "source": [
    "Dictionary keys in Python must be immutable so that the dictionary can reliably and quickly find the values associated with those keys. Using immutable keys prevents mistakes and keeps everything running smoothly, making dictionaries a powerful and useful tool in programming."
   ]
  }
 ],
 "metadata": {
  "kernelspec": {
   "display_name": "Python 3 (ipykernel)",
   "language": "python",
   "name": "python3"
  },
  "language_info": {
   "codemirror_mode": {
    "name": "ipython",
    "version": 3
   },
   "file_extension": ".py",
   "mimetype": "text/x-python",
   "name": "python",
   "nbconvert_exporter": "python",
   "pygments_lexer": "ipython3",
   "version": "3.10.8"
  }
 },
 "nbformat": 4,
 "nbformat_minor": 5
}
