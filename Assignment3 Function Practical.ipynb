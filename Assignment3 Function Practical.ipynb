{
 "cells": [
  {
   "cell_type": "markdown",
   "id": "eff6ca95-4654-43e1-8fb6-45aea34339cc",
   "metadata": {},
   "source": [
    "Practical Question\n"
   ]
  },
  {
   "cell_type": "markdown",
   "id": "e2989d76-de8f-47cb-8a6a-f9bbe46e769d",
   "metadata": {},
   "source": []
  },
  {
   "cell_type": "markdown",
   "id": "4375877d-b152-424e-85b0-164f8d3f3902",
   "metadata": {},
   "source": [
    "Q1. Write a Python function that takes a list of numbers as input and returns the sum of all even numbers in\n",
    "the list."
   ]
  },
  {
   "cell_type": "code",
   "execution_count": 1,
   "id": "9f9a8558-dd27-471e-90dc-4f0e176381ad",
   "metadata": {},
   "outputs": [
    {
     "name": "stdout",
     "output_type": "stream",
     "text": [
      "12\n"
     ]
    }
   ],
   "source": [
    "# Solution\n",
    "# by taking a random list\n",
    "\n",
    "def sum_even_numbers(numbers):\n",
    "    # Initialize the sum to 0\n",
    "    total_sum = 0\n",
    "    \n",
    "    # Iterate through the list of numbers\n",
    "    for number in numbers:\n",
    "        # Check if the number is even\n",
    "        if number % 2 == 0:\n",
    "            # Add the even number to the total sum\n",
    "            total_sum += number\n",
    "    \n",
    "    # Return the total sum of even numbers\n",
    "    return total_sum\n",
    "\n",
    "# Example usage\n",
    "numbers_list = [1, 2, 3, 4, 5, 6]\n",
    "result = sum_even_numbers(numbers_list)\n",
    "print(result)  \n",
    "\n"
   ]
  },
  {
   "cell_type": "code",
   "execution_count": 4,
   "id": "5bb6ff1f-7b43-49d7-9429-bf2382cee2fa",
   "metadata": {},
   "outputs": [
    {
     "name": "stdin",
     "output_type": "stream",
     "text": [
      "Enter numbers separated by spaces:  76 98 76 54 56 77 \n"
     ]
    },
    {
     "name": "stdout",
     "output_type": "stream",
     "text": [
      "The sum of all even numbers is: 360\n"
     ]
    }
   ],
   "source": [
    "# By taking input from user \n",
    "# Prompt the user to enter a list of numbers separated by spaces\n",
    "user_input = input(\"Enter numbers separated by spaces: \")\n",
    "    \n",
    "# Convert the input string to a list of integers\n",
    "numbers_list = list(map(int, user_input.split()))\n",
    "    \n",
    "# Calculate the sum of even numbers\n",
    "result = sum_even_numbers(numbers_list)\n",
    "    \n",
    "# Print the result\n",
    "print(f\"The sum of all even numbers is: {result}\")\n",
    "\n",
    "\n",
    "def sum_even_numbers(numbers):\n",
    "    # Initialize the sum to 0\n",
    "    total_sum = 0\n",
    "    \n",
    "    # Iterate through the list of numbers\n",
    "    for number in numbers:\n",
    "        # Check if the number is even\n",
    "        if number % 2 == 0:\n",
    "            # Add the even number to the total sum\n",
    "            total_sum += number\n",
    "    \n",
    "    # Return the total sum of even numbers\n",
    "    return total_sum\n",
    "\n",
    "\n"
   ]
  },
  {
   "cell_type": "markdown",
   "id": "ff9340c0-293c-400f-84ce-a3ec3b3a46d1",
   "metadata": {},
   "source": []
  },
  {
   "cell_type": "markdown",
   "id": "774bd43d-6508-407a-87f1-661ff2ab6a4e",
   "metadata": {},
   "source": [
    "Q2.  Create a Python function that accepts a string and returns the reverse of that string.\n"
   ]
  },
  {
   "cell_type": "code",
   "execution_count": 5,
   "id": "c534a60d-517b-4adf-9ff2-57522afbef2c",
   "metadata": {},
   "outputs": [
    {
     "name": "stdout",
     "output_type": "stream",
     "text": [
      "!dlroW ,olleH\n"
     ]
    }
   ],
   "source": [
    "# Solution\n",
    "\n",
    "def reverse_string(s):\n",
    "    \"\"\"\n",
    "    Function to reverse the given string.\n",
    "    \n",
    "    Parameters:\n",
    "    s (str): The string to be reversed.\n",
    "\n",
    "    Returns:\n",
    "    str: The reversed string.\n",
    "    \"\"\"\n",
    "    # Reverse the string using slicing\n",
    "    reversed_s = s[::-1]\n",
    "    \n",
    "    return reversed_s\n",
    "\n",
    "# Example usage\n",
    "input_string = \"Hello, World!\"\n",
    "result = reverse_string(input_string)\n",
    "print(result)  \n"
   ]
  },
  {
   "cell_type": "code",
   "execution_count": 7,
   "id": "451569fe-3ba4-4a40-ae2a-c23028729788",
   "metadata": {},
   "outputs": [
    {
     "name": "stdin",
     "output_type": "stream",
     "text": [
      "Enter a string to be reversed:  PWSKILLS\n"
     ]
    },
    {
     "name": "stdout",
     "output_type": "stream",
     "text": [
      "SLLIKSWP\n"
     ]
    }
   ],
   "source": [
    "# by using input from user\n",
    "\n",
    "user_input = input(\"Enter a string to be reversed: \")\n",
    "\n",
    "def reverse_string(s):\n",
    "    \"\"\"\n",
    "    Function to reverse the given string.\n",
    "    \n",
    "    Parameters:\n",
    "    s (str): The string to be reversed.\n",
    "\n",
    "    Returns:\n",
    "    str: The reversed string.\n",
    "    \"\"\"\n",
    "    # Reverse the string using slicing\n",
    "    reversed_s = s[::-1]\n",
    "    \n",
    "    return reversed_s\n",
    "\n",
    "result = reverse_string(user_input)\n",
    "print(result)  \n",
    "\n"
   ]
  },
  {
   "cell_type": "markdown",
   "id": "ee5c2f89-734e-4e8a-9de9-41bb712e0b1b",
   "metadata": {},
   "source": []
  },
  {
   "cell_type": "markdown",
   "id": "cf6e9265-8791-4335-a9e3-30350fc23781",
   "metadata": {},
   "source": [
    "Q3. Implement a Python function that takes a list of integers and returns a new list containing the squares of\n",
    "each number."
   ]
  },
  {
   "cell_type": "code",
   "execution_count": 8,
   "id": "c42eac40-98de-4c74-a1f3-76faa0b626da",
   "metadata": {},
   "outputs": [
    {
     "name": "stdout",
     "output_type": "stream",
     "text": [
      "[1, 4, 9, 16, 25]\n"
     ]
    }
   ],
   "source": [
    "# Solution\n",
    "\n",
    "def square_numbers(numbers):\n",
    "    \"\"\"\n",
    "    Function to return a new list containing the squares of each number from the input list.\n",
    "    \n",
    "    Parameters:\n",
    "    numbers (list of int): The list of integers to be squared.\n",
    "\n",
    "    Returns:\n",
    "    list of int: A list containing the squares of the input integers.\n",
    "    \"\"\"\n",
    "    # Use list comprehension to create a new list with squares of each number\n",
    "    squared_list = [number ** 2 for number in numbers]\n",
    "    \n",
    "    return squared_list\n",
    "\n",
    "# Example usage\n",
    "input_list = [1, 2, 3, 4, 5]\n",
    "result = square_numbers(input_list)\n",
    "print(result) \n"
   ]
  },
  {
   "cell_type": "code",
   "execution_count": 11,
   "id": "3b10fd37-5ab5-4e7d-bba0-215a717c5b03",
   "metadata": {},
   "outputs": [
    {
     "name": "stdin",
     "output_type": "stream",
     "text": [
      "Enter the number separated by space:  98 76 54 32 21\n"
     ]
    },
    {
     "name": "stdout",
     "output_type": "stream",
     "text": [
      "[9604, 5776, 2916, 1024, 441]\n"
     ]
    }
   ],
   "source": [
    "# by taking Input from user\n",
    "\n",
    "input_number = input(\"Enter the number separated by space: \")\n",
    "input_list = list(map(int,input_number.split()))\n",
    "\n",
    "def square_numbers(numbers):\n",
    "    \"\"\"\n",
    "    Function to return a new list containing the squares of each number from the input list.\n",
    "    \n",
    "    Parameters:\n",
    "    numbers (list of int): The list of integers to be squared.\n",
    "\n",
    "    Returns:\n",
    "    list of int: A list containing the squares of the input integers.\n",
    "    \"\"\"\n",
    "    # Use list comprehension to create a new list with squares of each number\n",
    "    squared_list = [number ** 2 for number in numbers]\n",
    "    \n",
    "    return squared_list\n",
    "\n",
    "result = square_numbers(input_list)\n",
    "print(result)"
   ]
  },
  {
   "cell_type": "code",
   "execution_count": 12,
   "id": "c42078ed-b11f-441a-8697-bb3d0412c3b2",
   "metadata": {},
   "outputs": [
    {
     "name": "stdout",
     "output_type": "stream",
     "text": [
      "[1, 4, 9, 16, 25]\n"
     ]
    }
   ],
   "source": [
    "# Alternative Using Loop\n",
    "\n",
    "def square_numbers(numbers):\n",
    "    \"\"\"\n",
    "    Function to return a new list containing the squares of each number from the input list.\n",
    "    \n",
    "    Parameters:\n",
    "    numbers (list of int): The list of integers to be squared.\n",
    "\n",
    "    Returns:\n",
    "    list of int: A list containing the squares of the input integers.\n",
    "    \"\"\"\n",
    "    squared_list = []\n",
    "    \n",
    "    # Iterate through each number in the list\n",
    "    for number in numbers:\n",
    "        # Append the square of the number to the new list\n",
    "        squared_list.append(number ** 2)\n",
    "    \n",
    "    return squared_list\n",
    "\n",
    "# Example usage\n",
    "input_list = [1, 2, 3, 4, 5]\n",
    "result = square_numbers(input_list)\n",
    "print(result)  \n"
   ]
  },
  {
   "cell_type": "markdown",
   "id": "b2ac4152-d450-4216-877f-d4b7982f9df5",
   "metadata": {},
   "source": []
  },
  {
   "cell_type": "markdown",
   "id": "d4926ccf-965b-4d62-bb26-57f987071bfe",
   "metadata": {},
   "source": [
    "Q4. Write a Python function that checks if a given number is prime or not from 1 to 200."
   ]
  },
  {
   "cell_type": "code",
   "execution_count": 13,
   "id": "7de94388-6414-40ce-9acf-510aeb30ebd1",
   "metadata": {},
   "outputs": [
    {
     "name": "stdout",
     "output_type": "stream",
     "text": [
      "Prime numbers from 1 to 200: [2, 3, 5, 7, 11, 13, 17, 19, 23, 29, 31, 37, 41, 43, 47, 53, 59, 61, 67, 71, 73, 79, 83, 89, 97, 101, 103, 107, 109, 113, 127, 131, 137, 139, 149, 151, 157, 163, 167, 173, 179, 181, 191, 193, 197, 199]\n"
     ]
    }
   ],
   "source": [
    "# Solution\n",
    "\n",
    "def is_prime(n):\n",
    "    \"\"\"\n",
    "    Function to check if a number is prime.\n",
    "\n",
    "    Parameters:\n",
    "    n (int): The number to be checked.\n",
    "\n",
    "    Returns:\n",
    "    bool: True if the number is prime, False otherwise.\n",
    "    \"\"\"\n",
    "    # Check if the number is less than 2 (not prime)\n",
    "    if n <= 1:\n",
    "        return False\n",
    "    # Check for factors from 2 to sqrt(n)\n",
    "    for i in range(2, int(n ** 0.5) + 1):\n",
    "        if n % i == 0:\n",
    "            return False\n",
    "    return True\n",
    "\n",
    "def primes_up_to(max_num):\n",
    "    \"\"\"\n",
    "    Function to get a list of prime numbers up to a given number.\n",
    "\n",
    "    Parameters:\n",
    "    max_num (int): The upper limit to check for prime numbers.\n",
    "\n",
    "    Returns:\n",
    "    list of int: A list of prime numbers up to max_num.\n",
    "    \"\"\"\n",
    "    primes = []\n",
    "    for num in range(2, max_num + 1):\n",
    "        if is_prime(num):\n",
    "            primes.append(num)\n",
    "    return primes\n",
    "\n",
    "# Example usage\n",
    "max_number = 200\n",
    "prime_numbers = primes_up_to(max_number)\n",
    "print(f\"Prime numbers from 1 to {max_number}: {prime_numbers}\")\n"
   ]
  },
  {
   "cell_type": "markdown",
   "id": "6dddab1e-8e9d-424b-93b7-01ee5fc24f96",
   "metadata": {},
   "source": []
  },
  {
   "cell_type": "markdown",
   "id": "a6469ec3-cc63-424c-9869-b13a1086ee8f",
   "metadata": {},
   "source": [
    "Q5. Create an iterator class in Python that generates the Fibonacci sequence up to a specified number of\n",
    "terms.\n"
   ]
  },
  {
   "cell_type": "code",
   "execution_count": 14,
   "id": "92b1422e-55a2-41c2-b47d-b01302df8abb",
   "metadata": {},
   "outputs": [
    {
     "name": "stdout",
     "output_type": "stream",
     "text": [
      "Fibonacci sequence up to 10 terms:\n",
      "0 1 1 2 3 5 8 13 21 34 "
     ]
    }
   ],
   "source": [
    "# Solution\n",
    "class FibonacciIterator:\n",
    "    def __init__(self, num_terms):\n",
    "        \"\"\"\n",
    "        Initialize the iterator with the number of terms to generate.\n",
    "        \"\"\"\n",
    "        self.num_terms = num_terms  # Total number of Fibonacci terms to generate\n",
    "        self.current = 0            # The current Fibonacci number (starting with 0)\n",
    "        self.next_value = 1         # The next Fibonacci number (starting with 1)\n",
    "        self.count = 0              # How many Fibonacci numbers have been generated\n",
    "\n",
    "    def __iter__(self):\n",
    "        \"\"\"\n",
    "        Return the iterator object itself.\n",
    "        \"\"\"\n",
    "        return self\n",
    "\n",
    "    def __next__(self):\n",
    "        \"\"\"\n",
    "        Return the next Fibonacci number.\n",
    "        \"\"\"\n",
    "        if self.count >= self.num_terms:\n",
    "            raise StopIteration  # Stop the iteration when the desired number of terms is reached\n",
    "        \n",
    "        # Get the current Fibonacci number to return\n",
    "        fib_number = self.current\n",
    "        \n",
    "        # Update current and next values for the next Fibonacci number\n",
    "        self.current, self.next_value = self.next_value, self.current + self.next_value\n",
    "        self.count += 1  # Increase the count of generated terms\n",
    "        \n",
    "        return fib_number\n",
    "\n",
    "# Example usage\n",
    "num_terms = 10  # Number of Fibonacci terms you want\n",
    "fib_iterator = FibonacciIterator(num_terms)\n",
    "\n",
    "print(f\"Fibonacci sequence up to {num_terms} terms:\")\n",
    "for num in fib_iterator:\n",
    "    print(num, end=\" \")  # Print each Fibonacci number in the sequence\n"
   ]
  },
  {
   "cell_type": "markdown",
   "id": "376520a3-a135-4859-bfbc-d424c8af52a6",
   "metadata": {},
   "source": []
  },
  {
   "cell_type": "markdown",
   "id": "acb11506-1b68-4025-8f6a-390a87abeee1",
   "metadata": {},
   "source": [
    "Q6. Write a generator function in Python that yields the powers of 2 up to a given exponent.\n"
   ]
  },
  {
   "cell_type": "code",
   "execution_count": 15,
   "id": "32afa86f-bb14-4338-9b8c-b3fe16d86e20",
   "metadata": {},
   "outputs": [
    {
     "name": "stdout",
     "output_type": "stream",
     "text": [
      "Powers of 2 up to 2^5:\n",
      "1 2 4 8 16 32 "
     ]
    }
   ],
   "source": [
    "# Solution\n",
    "\n",
    "def powers_of_two(exponent):\n",
    "    \"\"\"\n",
    "    A generator function that yields powers of 2 up to a given exponent.\n",
    "    \n",
    "    Parameters:\n",
    "    exponent (int): The maximum exponent to generate powers of 2.\n",
    "    \"\"\"\n",
    "    for exp in range(exponent + 1):\n",
    "        yield 2 ** exp\n",
    "\n",
    "# Example usage\n",
    "max_exponent = 5\n",
    "print(f\"Powers of 2 up to 2^{max_exponent}:\")\n",
    "for power in powers_of_two(max_exponent):\n",
    "    print(power, end=\" \")\n"
   ]
  },
  {
   "cell_type": "markdown",
   "id": "84977f64-a782-4834-a284-fc69477dbf54",
   "metadata": {},
   "source": []
  },
  {
   "cell_type": "markdown",
   "id": "174a0be6-c33b-4b8f-852e-4b9e6945211a",
   "metadata": {},
   "source": [
    "Q7. Implement a generator function that reads a file line by line and yields each line as a string."
   ]
  },
  {
   "cell_type": "code",
   "execution_count": 16,
   "id": "40ede418-ce3b-4dd7-9590-c6715c1bd3e0",
   "metadata": {},
   "outputs": [
    {
     "name": "stdout",
     "output_type": "stream",
     "text": [
      "Lines from the file:\n",
      "{\n",
      "\"cells\": [\n",
      "{\n",
      "\"cell_type\": \"markdown\",\n",
      "\"id\": \"2e569da0-1c68-4689-8fac-0f413e3650e0\",\n",
      "\"metadata\": {},\n",
      "\"source\": [\n",
      "\"                                               Assignment Data Structures\\n\",\n",
      "\"                                               \\n\",\n",
      "\"                                               \\n\",\n",
      "\"                                    Name : Md Imamuddin\\n\",\n",
      "\"                                    Batch : Data Analytics july batch\\n\",\n",
      "\"                                    Course : Data Analytics (July English batch)\\n\",\n",
      "\"                                    Email :- imamuddinmd15@gmail.com\\n\",\n",
      "\"                                    Mobile No :- 8340676988\\n\",\n",
      "\"                                    \"\n",
      "]\n",
      "},\n",
      "{\n",
      "\"cell_type\": \"markdown\",\n",
      "\"id\": \"ebe9d988-30a3-4fb7-9579-fae6b3b6e9fb\",\n",
      "\"metadata\": {},\n",
      "\"source\": [\n",
      "\"Q1 :  Discuss string slicing and provide examples. \\n\"\n",
      "]\n",
      "},\n",
      "{\n",
      "\"cell_type\": \"markdown\",\n",
      "\"id\": \"b2e58164-c4ba-49b6-8bf0-c153c8305208\",\n",
      "\"metadata\": {},\n",
      "\"source\": [\n",
      "\"Ans 1 :-  String slicing allows us to create a new substring from an existing string. This is done by specifying a starting point and an             ending point in the string.\"\n",
      "]\n",
      "},\n",
      "{\n",
      "\"cell_type\": \"markdown\",\n",
      "\"id\": \"f1d47652-6c2d-4786-8428-ba6b53736a1c\",\n",
      "\"metadata\": {},\n",
      "\"source\": [\n",
      "\"Basic Syntax\\n\",\n",
      "\"In Python, the syntax for string slicing is:\\n\",\n",
      "\"string[start:end]\\n\",\n",
      "\"=> start: The index where the slice begins. It’s inclusive, meaning the character at this index is included in the slice.\\n\",\n",
      "\"=> end: The index where the slice ends. It’s exclusive, meaning the character at this index is not included in the slice.\"\n",
      "]\n",
      "},\n",
      "{\n",
      "\"cell_type\": \"code\",\n",
      "\"execution_count\": 2,\n",
      "\"id\": \"7f11eb34-26e5-4427-bff2-6f65945c0f6a\",\n",
      "\"metadata\": {},\n",
      "\"outputs\": [\n",
      "{\n",
      "\"name\": \"stdout\",\n",
      "\"output_type\": \"stream\",\n",
      "\"text\": [\n",
      "\"Hello\\n\"\n",
      "]\n",
      "}\n",
      "],\n",
      "\"source\": [\n",
      "\"# Examples\\n\",\n",
      "\"#Let’s look at some examples to understand how slicing works:\\n\",\n",
      "\"text = \\\"Hello, World!\\\"\\n\",\n",
      "\"\\n\",\n",
      "\"# Extract characters from index 0 to 4\\n\",\n",
      "\"slice1 = text[0:5]\\n\",\n",
      "\"print(slice1)  \\n\"\n",
      "]\n",
      "},\n",
      "{\n",
      "\"cell_type\": \"code\",\n",
      "\"execution_count\": 3,\n",
      "\"id\": \"8c0d7661-bb0e-44f1-adc1-6375cbefe5b6\",\n",
      "\"metadata\": {},\n",
      "\"outputs\": [\n",
      "{\n",
      "\"name\": \"stdout\",\n",
      "\"output_type\": \"stream\",\n",
      "\"text\": [\n",
      "\"World!\\n\"\n",
      "]\n",
      "}\n",
      "],\n",
      "\"source\": [\n",
      "\"# Extract characters from index 7 to the end of the string\\n\",\n",
      "\"slice2 = text[7:]\\n\",\n",
      "\"print(slice2)\"\n",
      "]\n",
      "},\n",
      "{\n",
      "\"cell_type\": \"code\",\n",
      "\"execution_count\": 4,\n",
      "\"id\": \"b56eaa04-34f5-43a4-aa7f-e6fbd240cb54\",\n",
      "\"metadata\": {},\n",
      "\"outputs\": [\n",
      "{\n",
      "\"name\": \"stdout\",\n",
      "\"output_type\": \"stream\",\n",
      "\"text\": [\n",
      "\"Hello\\n\"\n",
      "]\n",
      "}\n",
      "],\n",
      "\"source\": [\n",
      "\"# Extract characters from the beginning of the string to index 4\\n\",\n",
      "\"slice3 = text[:5]\\n\",\n",
      "\"print(slice3) \"\n",
      "]\n",
      "},\n",
      "{\n",
      "\"cell_type\": \"code\",\n",
      "\"execution_count\": 5,\n",
      "\"id\": \"e0cc4703-b819-4c95-b194-3ab5987b2169\",\n",
      "\"metadata\": {},\n",
      "\"outputs\": [\n",
      "{\n",
      "\"name\": \"stdout\",\n",
      "\"output_type\": \"stream\",\n",
      "\"text\": [\n",
      "\"Hello, World!\\n\"\n",
      "]\n",
      "}\n",
      "],\n",
      "\"source\": [\n",
      "\"# Extract the entire string (same as text[:])\\n\",\n",
      "\"slice4 = text[:]\\n\",\n",
      "\"print(slice4) \"\n",
      "]\n",
      "},\n",
      "{\n",
      "\"cell_type\": \"code\",\n",
      "\"execution_count\": 6,\n",
      "\"id\": \"618d9619-8be5-49b9-96a2-b0130ed6e33f\",\n",
      "\"metadata\": {},\n",
      "\"outputs\": [\n",
      "{\n",
      "\"name\": \"stdout\",\n",
      "\"output_type\": \"stream\",\n",
      "\"text\": [\n",
      "\"Hlo ol!\\n\"\n",
      "]\n",
      "}\n",
      "],\n",
      "\"source\": [\n",
      "\"# Extract every second character from the string\\n\",\n",
      "\"slice5 = text[::2]\\n\",\n",
      "\"print(slice5) \"\n",
      "]\n",
      "},\n",
      "{\n",
      "\"cell_type\": \"code\",\n",
      "\"execution_count\": 7,\n",
      "\"id\": \"5df9753b-85d0-42bd-a0b4-ddeab319785f\",\n",
      "\"metadata\": {},\n",
      "\"outputs\": [\n",
      "{\n",
      "\"name\": \"stdout\",\n",
      "\"output_type\": \"stream\",\n",
      "\"text\": [\n",
      "\"!dlroW ,olleH\\n\"\n",
      "]\n",
      "}\n",
      "],\n",
      "\"source\": [\n",
      "\"# Extract characters in reverse order\\n\",\n",
      "\"slice6 = text[::-1]\\n\",\n",
      "\"print(slice6)\"\n",
      "]\n",
      "},\n",
      "{\n",
      "\"cell_type\": \"markdown\",\n",
      "\"id\": \"9189f349-1d2f-4831-857b-e893a121924d\",\n",
      "\"metadata\": {},\n",
      "\"source\": [\n",
      "\"1. Indexing: In Python, string indices start at 0. So, text[0] is the first character, text[1] is the second, and so on.\\n\",\n",
      "\"\\n\",\n",
      "\"2. Negative Indices: We can use negative indices to count from the end of the string. For example, text[-1] is the last character, text[-2] is the second last, etc.\\n\",\n",
      "\"\\n\",\n",
      "\"3. Step: We can also add a step parameter to the slice, which specifies the stride between each character we want to include. The syntax is string[start:end:step]. For instance, text[::2] skips every other character.\\n\",\n",
      "\"\\n\",\n",
      "\"4. Out of Range: If start or end is beyond the bounds of the string, Python will handle it gracefully, usually by just returning as much of the string as it can.\\n\",\n",
      "\"\\n\"\n",
      "]\n",
      "},\n",
      "{\n",
      "\"cell_type\": \"code\",\n",
      "\"execution_count\": null,\n",
      "\"id\": \"62df4946-08c0-46ca-8166-0cc4b557d0e2\",\n",
      "\"metadata\": {},\n",
      "\"outputs\": [],\n",
      "\"source\": []\n",
      "},\n",
      "{\n",
      "\"cell_type\": \"code\",\n",
      "\"execution_count\": null,\n",
      "\"id\": \"72a2bb54-c6cd-4b64-89a4-5fe814bcfd51\",\n",
      "\"metadata\": {},\n",
      "\"outputs\": [],\n",
      "\"source\": []\n",
      "},\n",
      "{\n",
      "\"cell_type\": \"code\",\n",
      "\"execution_count\": null,\n",
      "\"id\": \"63dda899-e1f7-48cb-bbb3-0344a36ed5e4\",\n",
      "\"metadata\": {},\n",
      "\"outputs\": [],\n",
      "\"source\": []\n",
      "},\n",
      "{\n",
      "\"cell_type\": \"code\",\n",
      "\"execution_count\": null,\n",
      "\"id\": \"c293401c-bf4d-4549-ac94-216d1332b0b9\",\n",
      "\"metadata\": {},\n",
      "\"outputs\": [],\n",
      "\"source\": []\n",
      "},\n",
      "{\n",
      "\"cell_type\": \"code\",\n",
      "\"execution_count\": null,\n",
      "\"id\": \"b872b5cc-c08d-433c-a98f-55d869faa999\",\n",
      "\"metadata\": {},\n",
      "\"outputs\": [],\n",
      "\"source\": []\n",
      "},\n",
      "{\n",
      "\"cell_type\": \"code\",\n",
      "\"execution_count\": null,\n",
      "\"id\": \"9b191a51-26ce-4a09-8449-d224af881ac8\",\n",
      "\"metadata\": {},\n",
      "\"outputs\": [],\n",
      "\"source\": []\n",
      "},\n",
      "{\n",
      "\"cell_type\": \"code\",\n",
      "\"execution_count\": null,\n",
      "\"id\": \"caee74c2-340a-47ab-aa3f-38a81b151a3d\",\n",
      "\"metadata\": {},\n",
      "\"outputs\": [],\n",
      "\"source\": []\n",
      "},\n",
      "{\n",
      "\"cell_type\": \"code\",\n",
      "\"execution_count\": null,\n",
      "\"id\": \"fa14c57e-3752-4b55-a4ee-ab1046621bba\",\n",
      "\"metadata\": {},\n",
      "\"outputs\": [],\n",
      "\"source\": []\n",
      "},\n",
      "{\n",
      "\"cell_type\": \"code\",\n",
      "\"execution_count\": null,\n",
      "\"id\": \"f8d623b6-ae38-4bc7-8eb7-7c5c214a81e1\",\n",
      "\"metadata\": {},\n",
      "\"outputs\": [],\n",
      "\"source\": []\n",
      "},\n",
      "{\n",
      "\"cell_type\": \"code\",\n",
      "\"execution_count\": null,\n",
      "\"id\": \"a5a319a7-b3f8-4093-977a-9a758be6b0be\",\n",
      "\"metadata\": {},\n",
      "\"outputs\": [],\n",
      "\"source\": []\n",
      "},\n",
      "{\n",
      "\"cell_type\": \"code\",\n",
      "\"execution_count\": null,\n",
      "\"id\": \"03333ee1-c9e2-489d-8647-9cd8aa8a7439\",\n",
      "\"metadata\": {},\n",
      "\"outputs\": [],\n",
      "\"source\": []\n",
      "},\n",
      "{\n",
      "\"cell_type\": \"code\",\n",
      "\"execution_count\": null,\n",
      "\"id\": \"e1eb28ef-40d7-442c-8b9a-0da894f8c8c6\",\n",
      "\"metadata\": {},\n",
      "\"outputs\": [],\n",
      "\"source\": []\n",
      "},\n",
      "{\n",
      "\"cell_type\": \"code\",\n",
      "\"execution_count\": null,\n",
      "\"id\": \"bc8eb2bc-af6b-4bd5-8ef8-eb36d79a8bc0\",\n",
      "\"metadata\": {},\n",
      "\"outputs\": [],\n",
      "\"source\": []\n",
      "},\n",
      "{\n",
      "\"cell_type\": \"code\",\n",
      "\"execution_count\": null,\n",
      "\"id\": \"7781fa97-07fd-408a-ac5d-edc0bde3face\",\n",
      "\"metadata\": {},\n",
      "\"outputs\": [],\n",
      "\"source\": []\n",
      "},\n",
      "{\n",
      "\"cell_type\": \"code\",\n",
      "\"execution_count\": null,\n",
      "\"id\": \"40e46adc-5f66-4d8c-a09b-1a1ef14b429c\",\n",
      "\"metadata\": {},\n",
      "\"outputs\": [],\n",
      "\"source\": []\n",
      "},\n",
      "{\n",
      "\"cell_type\": \"code\",\n",
      "\"execution_count\": null,\n",
      "\"id\": \"e5a6f55a-fbaa-4a30-93f7-21f01a9728c9\",\n",
      "\"metadata\": {},\n",
      "\"outputs\": [],\n",
      "\"source\": []\n",
      "},\n",
      "{\n",
      "\"cell_type\": \"code\",\n",
      "\"execution_count\": null,\n",
      "\"id\": \"a01a881e-1d0e-43fa-93d1-840e7f41b837\",\n",
      "\"metadata\": {},\n",
      "\"outputs\": [],\n",
      "\"source\": []\n",
      "},\n",
      "{\n",
      "\"cell_type\": \"code\",\n",
      "\"execution_count\": null,\n",
      "\"id\": \"0f57b999-185f-47c6-b6be-ea50e8175e21\",\n",
      "\"metadata\": {},\n",
      "\"outputs\": [],\n",
      "\"source\": []\n",
      "},\n",
      "{\n",
      "\"cell_type\": \"code\",\n",
      "\"execution_count\": null,\n",
      "\"id\": \"399da51e-307a-4c99-8df0-ad79c3c77d12\",\n",
      "\"metadata\": {},\n",
      "\"outputs\": [],\n",
      "\"source\": []\n",
      "}\n",
      "],\n",
      "\"metadata\": {\n",
      "\"kernelspec\": {\n",
      "\"display_name\": \"Python 3 (ipykernel)\",\n",
      "\"language\": \"python\",\n",
      "\"name\": \"python3\"\n",
      "},\n",
      "\"language_info\": {\n",
      "\"codemirror_mode\": {\n",
      "\"name\": \"ipython\",\n",
      "\"version\": 3\n",
      "},\n",
      "\"file_extension\": \".py\",\n",
      "\"mimetype\": \"text/x-python\",\n",
      "\"name\": \"python\",\n",
      "\"nbconvert_exporter\": \"python\",\n",
      "\"pygments_lexer\": \"ipython3\",\n",
      "\"version\": \"3.10.8\"\n",
      "}\n",
      "},\n",
      "\"nbformat\": 4,\n",
      "\"nbformat_minor\": 5\n",
      "}\n"
     ]
    }
   ],
   "source": [
    "# Solution\n",
    "\n",
    "def read_file_line_by_line(file_path):\n",
    "    \"\"\"\n",
    "    A generator function that reads a file line by line and yields each line as a string.\n",
    "    \n",
    "    Parameters:\n",
    "    file_path (str): The path to the file to be read.\n",
    "    \"\"\"\n",
    "    with open(file_path, 'r') as file:\n",
    "        for line in file:\n",
    "            yield line.strip()  # Use strip() to remove leading/trailing whitespace\n",
    "\n",
    "# Example usage\n",
    "file_path = './Untitled.ipynb' \n",
    "\n",
    "print(\"Lines from the file:\")\n",
    "for line in read_file_line_by_line(file_path):\n",
    "    print(line)\n"
   ]
  },
  {
   "cell_type": "markdown",
   "id": "f4335449-85a3-4879-a181-fc1defb46315",
   "metadata": {},
   "source": []
  },
  {
   "cell_type": "markdown",
   "id": "31e048a1-f727-4cf6-a183-7f09153beae7",
   "metadata": {},
   "source": [
    "Q8. Use a lambda function in Python to sort a list of tuples based on the second element of each tuple."
   ]
  },
  {
   "cell_type": "code",
   "execution_count": 17,
   "id": "0eaf9a06-35c5-41fb-9c82-8cf05570069b",
   "metadata": {},
   "outputs": [
    {
     "name": "stdout",
     "output_type": "stream",
     "text": [
      "Sorted list based on the second element:\n",
      "[(2, 1), (4, 2), (1, 3), (3, 4)]\n"
     ]
    }
   ],
   "source": [
    "# Solution\n",
    "\n",
    "# by using sorted \n",
    "\n",
    "# List of tuples\n",
    "tuples_list = [(1, 3), (2, 1), (4, 2), (3, 4)]\n",
    "\n",
    "# Sort the list of tuples based on the second element using a lambda function\n",
    "sorted_list = sorted(tuples_list, key=lambda x: x[1])\n",
    "\n",
    "print(\"Sorted list based on the second element:\")\n",
    "print(sorted_list)\n"
   ]
  },
  {
   "cell_type": "code",
   "execution_count": 18,
   "id": "c3d82839-f4e0-4677-aa16-df18db57ad3e",
   "metadata": {},
   "outputs": [
    {
     "name": "stdout",
     "output_type": "stream",
     "text": [
      "Sorted list based on the second element:\n",
      "[(2, 1), (4, 2), (1, 3), (3, 4)]\n"
     ]
    }
   ],
   "source": [
    "# By Using Sort \n",
    "\n",
    "# List of tuples\n",
    "tuples_list = [(1, 3), (2, 1), (4, 2), (3, 4)]\n",
    "\n",
    "# Sort the list of tuples based on the second element using a lambda function\n",
    "tuples_list.sort(key=lambda x: x[1])\n",
    "\n",
    "print(\"Sorted list based on the second element:\")\n",
    "print(tuples_list)\n"
   ]
  },
  {
   "cell_type": "markdown",
   "id": "1fd30481-d879-4425-8ef1-661cc743b18d",
   "metadata": {},
   "source": []
  },
  {
   "cell_type": "markdown",
   "id": "86b5ffc8-95a2-4f92-9ec1-1969553b6a3e",
   "metadata": {},
   "source": [
    "Q9. Write a Python program that uses `map()` to convert a list of temperatures from Celsius to Fahrenheit."
   ]
  },
  {
   "cell_type": "code",
   "execution_count": 19,
   "id": "dbafad16-8aad-4e08-89d2-cc9f4d2edc04",
   "metadata": {},
   "outputs": [
    {
     "name": "stdout",
     "output_type": "stream",
     "text": [
      "Temperatures in Fahrenheit: [32.0, 50.0, 68.0, 86.0, 104.0]\n"
     ]
    }
   ],
   "source": [
    "# solution\n",
    "\n",
    "# Define the conversion function\n",
    "def celsius_to_fahrenheit(celsius):\n",
    "    \"\"\"\n",
    "    Convert Celsius to Fahrenheit.\n",
    "    \n",
    "    Parameters:\n",
    "    celsius (float): Temperature in Celsius.\n",
    "    \n",
    "    Returns:\n",
    "    float: Temperature in Fahrenheit.\n",
    "    \"\"\"\n",
    "    return (celsius * 9/5) + 32\n",
    "\n",
    "# List of temperatures in Celsius\n",
    "celsius_temps = [0, 10, 20, 30, 40]\n",
    "\n",
    "# Use map() to convert Celsius to Fahrenheit\n",
    "fahrenheit_temps = map(celsius_to_fahrenheit, celsius_temps)\n",
    "\n",
    "# Convert the map object to a list and print the result\n",
    "fahrenheit_temps_list = list(fahrenheit_temps)\n",
    "print(\"Temperatures in Fahrenheit:\", fahrenheit_temps_list)\n"
   ]
  },
  {
   "cell_type": "markdown",
   "id": "a4e73ce7-f339-4601-99ae-617da3d90be7",
   "metadata": {},
   "source": []
  },
  {
   "cell_type": "markdown",
   "id": "bd355c11-d8cc-4547-bc25-c38efc19d034",
   "metadata": {},
   "source": [
    "Q10. Create a Python program that uses `filter()` to remove all the vowels from a given string."
   ]
  },
  {
   "cell_type": "code",
   "execution_count": 20,
   "id": "885526e2-4047-4645-8261-d41ff4666245",
   "metadata": {},
   "outputs": [
    {
     "name": "stdout",
     "output_type": "stream",
     "text": [
      "String after removing vowels: Hll, Wrld!\n"
     ]
    }
   ],
   "source": [
    "# Solution\n",
    "\n",
    "def is_not_vowel(char):\n",
    "    \"\"\"\n",
    "    Check if a character is not a vowel.\n",
    "    \n",
    "    Parameters:\n",
    "    char (str): A single character.\n",
    "    \n",
    "    Returns:\n",
    "    bool: True if the character is not a vowel, False otherwise.\n",
    "    \"\"\"\n",
    "    return char.lower() not in 'aeiou'\n",
    "\n",
    "def remove_vowels(input_string):\n",
    "    \"\"\"\n",
    "    Remove all vowels from the input string.\n",
    "    \n",
    "    Parameters:\n",
    "    input_string (str): The string from which vowels will be removed.\n",
    "    \n",
    "    Returns:\n",
    "    str: The string with all vowels removed.\n",
    "    \"\"\"\n",
    "    # Use filter() to remove vowels\n",
    "    filtered_chars = filter(is_not_vowel, input_string)\n",
    "    # Join the filtered characters into a new string\n",
    "    return ''.join(filtered_chars)\n",
    "\n",
    "# Example usage\n",
    "input_string = \"Hello, World!\"\n",
    "result = remove_vowels(input_string)\n",
    "print(\"String after removing vowels:\", result)\n"
   ]
  },
  {
   "cell_type": "markdown",
   "id": "54624159-e047-4016-9c20-f9febdfb4814",
   "metadata": {},
   "source": []
  },
  {
   "cell_type": "markdown",
   "id": "a76285d8-a3e8-4861-997b-5d5cce59fe03",
   "metadata": {},
   "source": [
    "1.Imagine an accounting routine used in a book shop. It works on a list with sublists, which look like this: \n",
    "\n",
    "Order Number\tBook Title and Author\t           Quantity\t  Price per Item\n",
    "34587\t         Learning Python, Mark Lutz\t          4\t         40.95\n",
    "98762\t         Programming Python, Mark Lutz        5\t         56.80\n",
    "77226\t         Head First Python, Paul Barry\t      3        \t 32.95\n",
    "88112\t         Einführung in Python3, Bernd Klein\t  3\t         24.99\n",
    "\n",
    "Write a Python program, which returns a list with 2-tuples. Each tuple consists of the order number and the\n",
    "product of the price per item and the quantity. The product should be increased by 10,- € if the value of the\n",
    "order is smaller than 100,00 €.\n",
    "\n",
    "Write a Python program using lambda and map."
   ]
  },
  {
   "cell_type": "code",
   "execution_count": 21,
   "id": "95e97b9d-e1dc-4f5c-8878-96dd2dce4051",
   "metadata": {},
   "outputs": [
    {
     "name": "stdout",
     "output_type": "stream",
     "text": [
      "Order number and adjusted total price: [(34587, 163.8), (98762, 284.0), (77226, 108.85000000000001), (88112, 84.97)]\n"
     ]
    }
   ],
   "source": [
    "# Solution\n",
    "\n",
    "# Define the list of orders with sublists\n",
    "orders = [\n",
    "    [34587, 'Learning Python, Mark Lutz', 4, 40.95],\n",
    "    [98762, 'Programming Python, Mark Lutz', 5, 56.80],\n",
    "    [77226, 'Head First Python, Paul Barry', 3, 32.95],\n",
    "    [88112, 'Einführung in Python3, Bernd Klein', 3, 24.99]\n",
    "]\n",
    "\n",
    "# Define the lambda function to calculate adjusted total price\n",
    "calculate_adjusted_total = lambda order: (\n",
    "    order[0],  # Order number\n",
    "    (order[2] * order[3] + 10) if (order[2] * order[3]) < 100 else (order[2] * order[3])\n",
    ")\n",
    "\n",
    "# Use map() to apply the lambda function to each order\n",
    "result = list(map(calculate_adjusted_total, orders))\n",
    "\n",
    "# Print the result\n",
    "print(\"Order number and adjusted total price:\", result)\n"
   ]
  },
  {
   "cell_type": "code",
   "execution_count": null,
   "id": "5bdfd15e-a629-4703-b829-76ef5a7ffb27",
   "metadata": {},
   "outputs": [],
   "source": []
  }
 ],
 "metadata": {
  "kernelspec": {
   "display_name": "Python 3 (ipykernel)",
   "language": "python",
   "name": "python3"
  },
  "language_info": {
   "codemirror_mode": {
    "name": "ipython",
    "version": 3
   },
   "file_extension": ".py",
   "mimetype": "text/x-python",
   "name": "python",
   "nbconvert_exporter": "python",
   "pygments_lexer": "ipython3",
   "version": "3.10.8"
  }
 },
 "nbformat": 4,
 "nbformat_minor": 5
}
